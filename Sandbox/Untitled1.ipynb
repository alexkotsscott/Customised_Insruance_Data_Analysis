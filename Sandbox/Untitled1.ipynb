{
 "cells": [
  {
   "cell_type": "code",
   "execution_count": 1,
   "id": "4784bff3-6664-49f6-9e0e-854640dd739a",
   "metadata": {},
   "outputs": [
    {
     "data": {
      "text/plain": [
       "_StoreAction(option_strings=['--opt1'], dest='opt1', nargs=None, const=None, default=None, type=None, choices=None, required=False, help=None, metavar=None)"
      ]
     },
     "execution_count": 1,
     "metadata": {},
     "output_type": "execute_result"
    }
   ],
   "source": [
    "# pip install random-address\n",
    "# pip install pandas\n",
    "\n",
    "import os\n",
    "import pandas as pd\n",
    "import random_address\n",
    "\n",
    "from random_address import real_random_address\n",
    "\n",
    "import argparse\n",
    "parser = argparse.ArgumentParser(description='Script so useful.')\n",
    "parser.add_argument(\"--opt1\")"
   ]
  },
  {
   "cell_type": "code",
   "execution_count": 7,
   "id": "96011352-cf89-4495-8a7d-833802f946ab",
   "metadata": {},
   "outputs": [],
   "source": [
    "add_dict = real_random_address()"
   ]
  },
  {
   "cell_type": "code",
   "execution_count": 8,
   "id": "11241a24-c738-4a74-ac28-872849bbc959",
   "metadata": {},
   "outputs": [
    {
     "data": {
      "text/html": [
       "<div>\n",
       "<style scoped>\n",
       "    .dataframe tbody tr th:only-of-type {\n",
       "        vertical-align: middle;\n",
       "    }\n",
       "\n",
       "    .dataframe tbody tr th {\n",
       "        vertical-align: top;\n",
       "    }\n",
       "\n",
       "    .dataframe thead th {\n",
       "        text-align: right;\n",
       "    }\n",
       "</style>\n",
       "<table border=\"1\" class=\"dataframe\">\n",
       "  <thead>\n",
       "    <tr style=\"text-align: right;\">\n",
       "      <th></th>\n",
       "      <th>address1</th>\n",
       "      <th>address2</th>\n",
       "      <th>city</th>\n",
       "      <th>state</th>\n",
       "      <th>postalCode</th>\n",
       "      <th>coordinates.lat</th>\n",
       "      <th>coordinates.lng</th>\n",
       "    </tr>\n",
       "  </thead>\n",
       "  <tbody>\n",
       "    <tr>\n",
       "      <th>0</th>\n",
       "      <td>172 Homestead Street</td>\n",
       "      <td></td>\n",
       "      <td>Manchester</td>\n",
       "      <td>CT</td>\n",
       "      <td>06042</td>\n",
       "      <td>41.787587</td>\n",
       "      <td>-72.530953</td>\n",
       "    </tr>\n",
       "  </tbody>\n",
       "</table>\n",
       "</div>"
      ],
      "text/plain": [
       "               address1 address2        city state postalCode  \\\n",
       "0  172 Homestead Street           Manchester    CT      06042   \n",
       "\n",
       "   coordinates.lat  coordinates.lng  \n",
       "0        41.787587       -72.530953  "
      ]
     },
     "execution_count": 8,
     "metadata": {},
     "output_type": "execute_result"
    }
   ],
   "source": [
    "pd.json_normalize(add_dict) # create data frame from .json format"
   ]
  },
  {
   "cell_type": "code",
   "execution_count": 12,
   "id": "67bfed39-78fa-4709-b6e2-600543f67eae",
   "metadata": {},
   "outputs": [],
   "source": [
    "def create_random_address_us():\n",
    "    \n",
    "    add_dict = real_random_address()\n",
    "    add_df = pd.json_normalize(add_dict)\n",
    "    \n",
    "    return (add_df)"
   ]
  },
  {
   "cell_type": "code",
   "execution_count": 14,
   "id": "479de831-fb03-4115-883d-b5ab5aec553c",
   "metadata": {},
   "outputs": [],
   "source": [
    "appended_data = []\n",
    "for i in range(5):\n",
    "    data = create_random_address_us()\n",
    "    # store DataFrame in list\n",
    "    appended_data.append(data)"
   ]
  },
  {
   "cell_type": "code",
   "execution_count": 18,
   "id": "3b5028db-f070-45d3-b95f-cca652dad012",
   "metadata": {},
   "outputs": [
    {
     "ename": "NameError",
     "evalue": "name 'df' is not defined",
     "output_type": "error",
     "traceback": [
      "\u001b[1;31m---------------------------------------------------------------------------\u001b[0m",
      "\u001b[1;31mNameError\u001b[0m                                 Traceback (most recent call last)",
      "Cell \u001b[1;32mIn[18], line 3\u001b[0m\n\u001b[0;32m      1\u001b[0m filename \u001b[38;5;241m=\u001b[39m \u001b[38;5;124m\"\u001b[39m\u001b[38;5;124mrandom_us_addresses.csv\u001b[39m\u001b[38;5;124m\"\u001b[39m\n\u001b[0;32m      2\u001b[0m \u001b[38;5;28;01mif\u001b[39;00m \u001b[38;5;129;01mnot\u001b[39;00m os\u001b[38;5;241m.\u001b[39mpath\u001b[38;5;241m.\u001b[39misfile(filename):\n\u001b[1;32m----> 3\u001b[0m     \u001b[43mdf\u001b[49m\u001b[38;5;241m.\u001b[39mto_csv(filename, header\u001b[38;5;241m=\u001b[39m\u001b[38;5;124m'\u001b[39m\u001b[38;5;124mcolumn_names\u001b[39m\u001b[38;5;124m'\u001b[39m, index\u001b[38;5;241m=\u001b[39m\u001b[38;5;28;01mFalse\u001b[39;00m)\n\u001b[0;32m      4\u001b[0m \u001b[38;5;28;01melse\u001b[39;00m:  \u001b[38;5;66;03m# else it exists so append without writing the header\u001b[39;00m\n\u001b[0;32m      5\u001b[0m     df\u001b[38;5;241m.\u001b[39mto_csv(filename, mode\u001b[38;5;241m=\u001b[39m\u001b[38;5;124m'\u001b[39m\u001b[38;5;124ma\u001b[39m\u001b[38;5;124m'\u001b[39m, header\u001b[38;5;241m=\u001b[39m\u001b[38;5;28;01mFalse\u001b[39;00m, index\u001b[38;5;241m=\u001b[39m\u001b[38;5;28;01mFalse\u001b[39;00m)\n",
      "\u001b[1;31mNameError\u001b[0m: name 'df' is not defined"
     ]
    }
   ],
   "source": [
    "filename = \"random_us_addresses.csv\"\n",
    "if not os.path.isfile(filename):\n",
    "    df.to_csv(filename, header='column_names', index=False)\n",
    "else:  # else it exists so append without writing the header\n",
    "    df.to_csv(filename, mode='a', header=False, index=False)\n",
    "\n",
    "for i in range(sample_size):\n",
    "    address_data = create_random_address_us()\n",
    "    # store DataFrame in list\n",
    "    address_data.to_csv(filename, mode='a', header=False, index=False)    "
   ]
  },
  {
   "cell_type": "code",
   "execution_count": null,
   "id": "58d6644c-2256-49b1-abc5-e0bc2a9bd5cc",
   "metadata": {},
   "outputs": [],
   "source": []
  }
 ],
 "metadata": {
  "kernelspec": {
   "display_name": "Python 3 (ipykernel)",
   "language": "python",
   "name": "python3"
  },
  "language_info": {
   "codemirror_mode": {
    "name": "ipython",
    "version": 3
   },
   "file_extension": ".py",
   "mimetype": "text/x-python",
   "name": "python",
   "nbconvert_exporter": "python",
   "pygments_lexer": "ipython3",
   "version": "3.10.9"
  }
 },
 "nbformat": 4,
 "nbformat_minor": 5
}
